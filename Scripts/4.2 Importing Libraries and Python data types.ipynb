{
 "cells": [
  {
   "cell_type": "markdown",
   "id": "ddfe52f4",
   "metadata": {},
   "source": [
    "# 01. Importing Libraries"
   ]
  },
  {
   "cell_type": "code",
   "execution_count": 1,
   "id": "ad2b08e0",
   "metadata": {},
   "outputs": [],
   "source": [
    "# Import libraries\n",
    "import pandas as pd\n",
    "import numpy as np\n",
    "import os"
   ]
  },
  {
   "cell_type": "markdown",
   "id": "e32c1edb",
   "metadata": {},
   "source": [
    "# 02. Data Types"
   ]
  },
  {
   "cell_type": "code",
   "execution_count": 2,
   "id": "18391e43",
   "metadata": {},
   "outputs": [],
   "source": [
    "x=2"
   ]
  },
  {
   "cell_type": "code",
   "execution_count": 3,
   "id": "e6c0c628",
   "metadata": {},
   "outputs": [
    {
     "data": {
      "text/plain": [
       "2"
      ]
     },
     "execution_count": 3,
     "metadata": {},
     "output_type": "execute_result"
    }
   ],
   "source": [
    "x"
   ]
  },
  {
   "cell_type": "code",
   "execution_count": 4,
   "id": "6fd970ff",
   "metadata": {},
   "outputs": [
    {
     "name": "stdout",
     "output_type": "stream",
     "text": [
      "2\n"
     ]
    }
   ],
   "source": [
    "print(x)"
   ]
  },
  {
   "cell_type": "code",
   "execution_count": 5,
   "id": "33b62fd3",
   "metadata": {},
   "outputs": [
    {
     "data": {
      "text/plain": [
       "int"
      ]
     },
     "execution_count": 5,
     "metadata": {},
     "output_type": "execute_result"
    }
   ],
   "source": [
    "type(x)"
   ]
  },
  {
   "cell_type": "code",
   "execution_count": 6,
   "id": "b4d63b61",
   "metadata": {},
   "outputs": [],
   "source": [
    "y=5.678"
   ]
  },
  {
   "cell_type": "code",
   "execution_count": 7,
   "id": "f738bb27",
   "metadata": {},
   "outputs": [
    {
     "data": {
      "text/plain": [
       "float"
      ]
     },
     "execution_count": 7,
     "metadata": {},
     "output_type": "execute_result"
    }
   ],
   "source": [
    "type(y)"
   ]
  },
  {
   "cell_type": "code",
   "execution_count": 8,
   "id": "b67f496b",
   "metadata": {},
   "outputs": [],
   "source": [
    "z='Brazil'"
   ]
  },
  {
   "cell_type": "code",
   "execution_count": 9,
   "id": "5327e66b",
   "metadata": {},
   "outputs": [
    {
     "data": {
      "text/plain": [
       "str"
      ]
     },
     "execution_count": 9,
     "metadata": {},
     "output_type": "execute_result"
    }
   ],
   "source": [
    "type(z)"
   ]
  },
  {
   "cell_type": "code",
   "execution_count": 10,
   "id": "65097ea9",
   "metadata": {},
   "outputs": [
    {
     "data": {
      "text/plain": [
       "str"
      ]
     },
     "execution_count": 10,
     "metadata": {},
     "output_type": "execute_result"
    }
   ],
   "source": [
    "type('Brazil')"
   ]
  },
  {
   "cell_type": "code",
   "execution_count": 11,
   "id": "261e2a5c",
   "metadata": {},
   "outputs": [
    {
     "data": {
      "text/plain": [
       "bool"
      ]
     },
     "execution_count": 11,
     "metadata": {},
     "output_type": "execute_result"
    }
   ],
   "source": [
    "type(True)"
   ]
  },
  {
   "cell_type": "code",
   "execution_count": 12,
   "id": "0f47ccf0",
   "metadata": {},
   "outputs": [
    {
     "data": {
      "text/plain": [
       "bool"
      ]
     },
     "execution_count": 12,
     "metadata": {},
     "output_type": "execute_result"
    }
   ],
   "source": [
    "type(False)"
   ]
  },
  {
   "cell_type": "code",
   "execution_count": 13,
   "id": "a8832f00",
   "metadata": {},
   "outputs": [
    {
     "data": {
      "text/plain": [
       "6"
      ]
     },
     "execution_count": 13,
     "metadata": {},
     "output_type": "execute_result"
    }
   ],
   "source": [
    "x+4"
   ]
  },
  {
   "cell_type": "code",
   "execution_count": 14,
   "id": "9228cf91",
   "metadata": {},
   "outputs": [
    {
     "data": {
      "text/plain": [
       "7.678"
      ]
     },
     "execution_count": 14,
     "metadata": {},
     "output_type": "execute_result"
    }
   ],
   "source": [
    "x+y"
   ]
  },
  {
   "cell_type": "code",
   "execution_count": 15,
   "id": "7dabed68",
   "metadata": {},
   "outputs": [
    {
     "data": {
      "text/plain": [
       "8"
      ]
     },
     "execution_count": 15,
     "metadata": {},
     "output_type": "execute_result"
    }
   ],
   "source": [
    "x+x+4"
   ]
  },
  {
   "cell_type": "code",
   "execution_count": 16,
   "id": "e6c5bac8",
   "metadata": {},
   "outputs": [],
   "source": [
    "x=x+4"
   ]
  },
  {
   "cell_type": "code",
   "execution_count": 17,
   "id": "2fbe1461",
   "metadata": {},
   "outputs": [
    {
     "name": "stdout",
     "output_type": "stream",
     "text": [
      "6\n"
     ]
    }
   ],
   "source": [
    "print(x)"
   ]
  },
  {
   "cell_type": "code",
   "execution_count": 18,
   "id": "a76c8243",
   "metadata": {},
   "outputs": [],
   "source": [
    "a='Hello'"
   ]
  },
  {
   "cell_type": "code",
   "execution_count": 19,
   "id": "141352bd",
   "metadata": {},
   "outputs": [],
   "source": [
    "b='Johnny Boy'"
   ]
  },
  {
   "cell_type": "code",
   "execution_count": 20,
   "id": "4cdaa2f6",
   "metadata": {},
   "outputs": [
    {
     "data": {
      "text/plain": [
       "'HelloJohnny Boy'"
      ]
     },
     "execution_count": 20,
     "metadata": {},
     "output_type": "execute_result"
    }
   ],
   "source": [
    "a+b"
   ]
  },
  {
   "cell_type": "code",
   "execution_count": 21,
   "id": "d7580b39",
   "metadata": {},
   "outputs": [],
   "source": [
    "a='Hello, '"
   ]
  },
  {
   "cell_type": "code",
   "execution_count": 22,
   "id": "82de48d9",
   "metadata": {},
   "outputs": [
    {
     "data": {
      "text/plain": [
       "'Hello, Johnny Boy'"
      ]
     },
     "execution_count": 22,
     "metadata": {},
     "output_type": "execute_result"
    }
   ],
   "source": [
    "a+b"
   ]
  },
  {
   "cell_type": "code",
   "execution_count": 23,
   "id": "ff633e07",
   "metadata": {},
   "outputs": [],
   "source": [
    "n='potato'"
   ]
  },
  {
   "cell_type": "code",
   "execution_count": 24,
   "id": "65934d80",
   "metadata": {},
   "outputs": [
    {
     "data": {
      "text/plain": [
       "'potatopotatopotatopotatopotatopotatopotatopotatopotatopotatopotatopotato'"
      ]
     },
     "execution_count": 24,
     "metadata": {},
     "output_type": "execute_result"
    }
   ],
   "source": [
    "n*12"
   ]
  },
  {
   "cell_type": "code",
   "execution_count": 25,
   "id": "a56b6fc7",
   "metadata": {},
   "outputs": [
    {
     "data": {
      "text/plain": [
       "False"
      ]
     },
     "execution_count": 25,
     "metadata": {},
     "output_type": "execute_result"
    }
   ],
   "source": [
    "x==y"
   ]
  },
  {
   "cell_type": "code",
   "execution_count": 26,
   "id": "51027af8",
   "metadata": {},
   "outputs": [
    {
     "data": {
      "text/plain": [
       "bool"
      ]
     },
     "execution_count": 26,
     "metadata": {},
     "output_type": "execute_result"
    }
   ],
   "source": [
    "type(x==y)"
   ]
  },
  {
   "cell_type": "code",
   "execution_count": 27,
   "id": "978d8d1c",
   "metadata": {},
   "outputs": [
    {
     "data": {
      "text/plain": [
       "100"
      ]
     },
     "execution_count": 27,
     "metadata": {},
     "output_type": "execute_result"
    }
   ],
   "source": [
    "25+75"
   ]
  },
  {
   "cell_type": "code",
   "execution_count": 28,
   "id": "609a3569",
   "metadata": {},
   "outputs": [
    {
     "data": {
      "text/plain": [
       "100"
      ]
     },
     "execution_count": 28,
     "metadata": {},
     "output_type": "execute_result"
    }
   ],
   "source": [
    "30+70"
   ]
  },
  {
   "cell_type": "code",
   "execution_count": 29,
   "id": "d83a5330",
   "metadata": {},
   "outputs": [
    {
     "data": {
      "text/plain": [
       "100"
      ]
     },
     "execution_count": 29,
     "metadata": {},
     "output_type": "execute_result"
    }
   ],
   "source": [
    "273-173"
   ]
  },
  {
   "cell_type": "code",
   "execution_count": 30,
   "id": "41fd7e07",
   "metadata": {},
   "outputs": [],
   "source": [
    "d=3.42"
   ]
  },
  {
   "cell_type": "code",
   "execution_count": 31,
   "id": "71424118",
   "metadata": {},
   "outputs": [],
   "source": [
    "e=2.13"
   ]
  },
  {
   "cell_type": "code",
   "execution_count": 32,
   "id": "7ed28055",
   "metadata": {},
   "outputs": [
    {
     "data": {
      "text/plain": [
       "1.6056338028169015"
      ]
     },
     "execution_count": 32,
     "metadata": {},
     "output_type": "execute_result"
    }
   ],
   "source": [
    "d/e"
   ]
  },
  {
   "cell_type": "code",
   "execution_count": 33,
   "id": "decfc631",
   "metadata": {},
   "outputs": [],
   "source": [
    "r='mag'"
   ]
  },
  {
   "cell_type": "code",
   "execution_count": 34,
   "id": "9d4ae18f",
   "metadata": {},
   "outputs": [],
   "source": [
    "t='nificent'"
   ]
  },
  {
   "cell_type": "code",
   "execution_count": 35,
   "id": "41e5014d",
   "metadata": {},
   "outputs": [
    {
     "data": {
      "text/plain": [
       "'magnificent'"
      ]
     },
     "execution_count": 35,
     "metadata": {},
     "output_type": "execute_result"
    }
   ],
   "source": [
    "r+t"
   ]
  },
  {
   "cell_type": "code",
   "execution_count": 36,
   "id": "c13b4a0e",
   "metadata": {},
   "outputs": [],
   "source": [
    "w='I ate a large meatball.'"
   ]
  },
  {
   "cell_type": "code",
   "execution_count": 37,
   "id": "cbae3278",
   "metadata": {},
   "outputs": [],
   "source": [
    "s=' And then I threw it back up!'"
   ]
  },
  {
   "cell_type": "code",
   "execution_count": 38,
   "id": "475f2c33",
   "metadata": {},
   "outputs": [
    {
     "data": {
      "text/plain": [
       "'I ate a large meatball. And then I threw it back up!'"
      ]
     },
     "execution_count": 38,
     "metadata": {},
     "output_type": "execute_result"
    }
   ],
   "source": [
    "w+s"
   ]
  },
  {
   "cell_type": "code",
   "execution_count": null,
   "id": "6a302685",
   "metadata": {},
   "outputs": [],
   "source": []
  }
 ],
 "metadata": {
  "kernelspec": {
   "display_name": "Python 3 (ipykernel)",
   "language": "python",
   "name": "python3"
  },
  "language_info": {
   "codemirror_mode": {
    "name": "ipython",
    "version": 3
   },
   "file_extension": ".py",
   "mimetype": "text/x-python",
   "name": "python",
   "nbconvert_exporter": "python",
   "pygments_lexer": "ipython3",
   "version": "3.11.7"
  }
 },
 "nbformat": 4,
 "nbformat_minor": 5
}
