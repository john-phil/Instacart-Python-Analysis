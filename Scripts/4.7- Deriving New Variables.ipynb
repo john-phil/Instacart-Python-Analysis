{
 "cells": [
  {
   "cell_type": "markdown",
   "id": "ea90e595",
   "metadata": {},
   "source": [
    "# 01. Deriving new variables Practice"
   ]
  },
  {
   "cell_type": "code",
   "execution_count": 1,
   "id": "1783eac1",
   "metadata": {},
   "outputs": [],
   "source": [
    "#Importing libraries\n",
    "import pandas as pd\n",
    "import numpy as np\n",
    "import os"
   ]
  },
  {
   "cell_type": "code",
   "execution_count": 2,
   "id": "5048d9a3",
   "metadata": {},
   "outputs": [],
   "source": [
    "path=r'C:\\Users\\jphil\\OneDrive\\Documents\\CareerFoundry Data Analytics\\Data Immersion\\Achievement 4\\Data'"
   ]
  },
  {
   "cell_type": "code",
   "execution_count": 5,
   "id": "61d1c3e0",
   "metadata": {},
   "outputs": [],
   "source": [
    "df_merged=pd.read_pickle(os.path.join(path, 'Prepared Data', 'ords_prods_merge.pkl'))"
   ]
  },
  {
   "cell_type": "code",
   "execution_count": 6,
   "id": "4f30b851",
   "metadata": {},
   "outputs": [],
   "source": [
    "#creating a subset with the first 1 million rows\n",
    "df=df_merged[:1000000]"
   ]
  },
  {
   "cell_type": "code",
   "execution_count": 7,
   "id": "4358c0dd",
   "metadata": {},
   "outputs": [
    {
     "data": {
      "text/plain": [
       "(1000000, 15)"
      ]
     },
     "execution_count": 7,
     "metadata": {},
     "output_type": "execute_result"
    }
   ],
   "source": [
    "df.shape"
   ]
  },
  {
   "cell_type": "code",
   "execution_count": 8,
   "id": "d1a0796d",
   "metadata": {},
   "outputs": [],
   "source": [
    "#Define a function\n",
    "def price_label(row):\n",
    "    if row['prices']<=5:\n",
    "        return 'Low range product'\n",
    "    elif(row['prices']>5) and (row['prices']<=15):\n",
    "        return 'Mid range product'\n",
    "    elif row['prices']>15:\n",
    "        return 'High range product'\n",
    "    else: return np.nan"
   ]
  },
  {
   "cell_type": "code",
   "execution_count": 9,
   "id": "60e06a1a",
   "metadata": {},
   "outputs": [
    {
     "name": "stderr",
     "output_type": "stream",
     "text": [
      "C:\\Users\\jphil\\AppData\\Local\\Temp\\ipykernel_6944\\4130505434.py:2: SettingWithCopyWarning: \n",
      "A value is trying to be set on a copy of a slice from a DataFrame.\n",
      "Try using .loc[row_indexer,col_indexer] = value instead\n",
      "\n",
      "See the caveats in the documentation: https://pandas.pydata.org/pandas-docs/stable/user_guide/indexing.html#returning-a-view-versus-a-copy\n",
      "  df['price_range']=df.apply(price_label, axis=1)\n"
     ]
    }
   ],
   "source": [
    "#Apply the function\n",
    "df['price_range']=df.apply(price_label, axis=1)"
   ]
  },
  {
   "cell_type": "code",
   "execution_count": 10,
   "id": "78f099a1",
   "metadata": {},
   "outputs": [
    {
     "data": {
      "text/plain": [
       "price_range\n",
       "Mid range product     672525\n",
       "Low range product     314109\n",
       "High range product     12413\n",
       "NaN                      953\n",
       "Name: count, dtype: int64"
      ]
     },
     "execution_count": 10,
     "metadata": {},
     "output_type": "execute_result"
    }
   ],
   "source": [
    "df['price_range'].value_counts(dropna=False)"
   ]
  },
  {
   "cell_type": "code",
   "execution_count": 11,
   "id": "c19769c1",
   "metadata": {},
   "outputs": [
    {
     "data": {
      "text/plain": [
       "99999.0"
      ]
     },
     "execution_count": 11,
     "metadata": {},
     "output_type": "execute_result"
    }
   ],
   "source": [
    "df['prices'].max()"
   ]
  },
  {
   "cell_type": "code",
   "execution_count": 12,
   "id": "a89f41f4",
   "metadata": {},
   "outputs": [
    {
     "name": "stderr",
     "output_type": "stream",
     "text": [
      "C:\\Users\\jphil\\AppData\\Local\\Temp\\ipykernel_6944\\2537477756.py:2: SettingWithCopyWarning: \n",
      "A value is trying to be set on a copy of a slice from a DataFrame.\n",
      "Try using .loc[row_indexer,col_indexer] = value instead\n",
      "\n",
      "See the caveats in the documentation: https://pandas.pydata.org/pandas-docs/stable/user_guide/indexing.html#returning-a-view-versus-a-copy\n",
      "  df.loc[df['prices'] > 15, 'price_range_loc'] = 'High-range product'\n"
     ]
    }
   ],
   "source": [
    "#switching to use the loc() function\n",
    "df.loc[df['prices'] > 15, 'price_range_loc'] = 'High-range product'"
   ]
  },
  {
   "cell_type": "code",
   "execution_count": 13,
   "id": "efd30b71",
   "metadata": {},
   "outputs": [],
   "source": [
    "df.loc[(df['prices'] <= 15) & (df['prices'] > 5), 'price_range_loc'] = 'Mid-range product'"
   ]
  },
  {
   "cell_type": "code",
   "execution_count": 14,
   "id": "15fe5e3f",
   "metadata": {},
   "outputs": [],
   "source": [
    "df.loc[df['prices'] <= 5, 'price_range_loc'] = 'Low-range product'"
   ]
  },
  {
   "cell_type": "code",
   "execution_count": 15,
   "id": "e7d54c8d",
   "metadata": {},
   "outputs": [
    {
     "data": {
      "text/plain": [
       "price_range_loc\n",
       "Mid-range product     672525\n",
       "Low-range product     314109\n",
       "High-range product     12413\n",
       "NaN                      953\n",
       "Name: count, dtype: int64"
      ]
     },
     "execution_count": 15,
     "metadata": {},
     "output_type": "execute_result"
    }
   ],
   "source": [
    "df['price_range_loc'].value_counts(dropna=False)"
   ]
  },
  {
   "cell_type": "code",
   "execution_count": 16,
   "id": "fc9f5660",
   "metadata": {},
   "outputs": [],
   "source": [
    "#now running the loc() function on the whole df\n",
    "df_merged.loc[df_merged['prices']>15, 'price_range_loc']= 'High-range product'"
   ]
  },
  {
   "cell_type": "code",
   "execution_count": 17,
   "id": "fbbc1d9a",
   "metadata": {},
   "outputs": [],
   "source": [
    "df_merged.loc[(df_merged['prices']<=15) & (df_merged['prices']>5), 'price_range_loc']= 'Mid-range product'"
   ]
  },
  {
   "cell_type": "code",
   "execution_count": 18,
   "id": "98a2283c",
   "metadata": {},
   "outputs": [],
   "source": [
    "df_merged.loc[df_merged['prices']<=5, 'price_range_loc']= 'Low-range product'"
   ]
  },
  {
   "cell_type": "code",
   "execution_count": 21,
   "id": "d8b80cfc",
   "metadata": {},
   "outputs": [],
   "source": [
    "price_range_loc=df_merged['price_range_loc'].value_counts(dropna=False)"
   ]
  },
  {
   "cell_type": "code",
   "execution_count": 22,
   "id": "81c794a7",
   "metadata": {},
   "outputs": [
    {
     "data": {
      "text/plain": [
       "price_range_loc\n",
       "Mid-range product     21860860\n",
       "Low-range product     10126321\n",
       "High-range product      417678\n",
       "NaN                      30200\n",
       "Name: count, dtype: int64"
      ]
     },
     "execution_count": 22,
     "metadata": {},
     "output_type": "execute_result"
    }
   ],
   "source": [
    "price_range_loc"
   ]
  },
  {
   "cell_type": "code",
   "execution_count": 23,
   "id": "340ba855",
   "metadata": {},
   "outputs": [],
   "source": [
    "price_range_loc.to_clipboard()"
   ]
  },
  {
   "cell_type": "code",
   "execution_count": 24,
   "id": "8f7f5909",
   "metadata": {},
   "outputs": [
    {
     "data": {
      "text/plain": [
       "orders_day_of_week\n",
       "0    6209808\n",
       "1    5665951\n",
       "6    4500391\n",
       "2    4217868\n",
       "5    4209603\n",
       "3    3844175\n",
       "4    3787263\n",
       "Name: count, dtype: int64"
      ]
     },
     "execution_count": 24,
     "metadata": {},
     "output_type": "execute_result"
    }
   ],
   "source": [
    "#Finding which day most orders take place\n",
    "df_merged['orders_day_of_week'].value_counts(dropna=False)"
   ]
  },
  {
   "cell_type": "code",
   "execution_count": 25,
   "id": "33906a18",
   "metadata": {},
   "outputs": [],
   "source": [
    "#using a for-loop to classify days based on busyness\n",
    "result = []\n",
    "\n",
    "for value in df_merged[\"orders_day_of_week\"]:\n",
    "  if value == 0:\n",
    "    result.append(\"Busiest day\")\n",
    "  elif value == 4:\n",
    "    result.append(\"Least busy\")\n",
    "  else:\n",
    "    result.append(\"Regularly busy\")"
   ]
  },
  {
   "cell_type": "code",
   "execution_count": 26,
   "id": "11814cbb",
   "metadata": {},
   "outputs": [],
   "source": [
    "df_merged['busiest_day']= result"
   ]
  },
  {
   "cell_type": "code",
   "execution_count": 28,
   "id": "2874eb12",
   "metadata": {},
   "outputs": [
    {
     "data": {
      "text/plain": [
       "busiest_day\n",
       "Regularly busy    22437988\n",
       "Busiest day        6209808\n",
       "Least busy         3787263\n",
       "Name: count, dtype: int64"
      ]
     },
     "execution_count": 28,
     "metadata": {},
     "output_type": "execute_result"
    }
   ],
   "source": [
    "busiest_day=df_merged['busiest_day'].value_counts(dropna=False)\n",
    "busiest_day"
   ]
  },
  {
   "cell_type": "code",
   "execution_count": 30,
   "id": "57952bc6",
   "metadata": {},
   "outputs": [],
   "source": [
    "busiest_day.to_clipboard()"
   ]
  },
  {
   "cell_type": "code",
   "execution_count": 41,
   "id": "44ef6d68",
   "metadata": {},
   "outputs": [
    {
     "data": {
      "text/html": [
       "<div>\n",
       "<style scoped>\n",
       "    .dataframe tbody tr th:only-of-type {\n",
       "        vertical-align: middle;\n",
       "    }\n",
       "\n",
       "    .dataframe tbody tr th {\n",
       "        vertical-align: top;\n",
       "    }\n",
       "\n",
       "    .dataframe thead th {\n",
       "        text-align: right;\n",
       "    }\n",
       "</style>\n",
       "<table border=\"1\" class=\"dataframe\">\n",
       "  <thead>\n",
       "    <tr style=\"text-align: right;\">\n",
       "      <th></th>\n",
       "      <th>order_id</th>\n",
       "      <th>user_id</th>\n",
       "      <th>order_number</th>\n",
       "      <th>orders_day_of_week</th>\n",
       "      <th>order_hour</th>\n",
       "      <th>days_since_prior_order</th>\n",
       "      <th>product_id</th>\n",
       "      <th>add_to_cart_order</th>\n",
       "      <th>reordered</th>\n",
       "      <th>_merge</th>\n",
       "      <th>Unnamed: 0</th>\n",
       "      <th>product_name</th>\n",
       "      <th>aisle_id</th>\n",
       "      <th>department_id</th>\n",
       "      <th>prices</th>\n",
       "      <th>price_range_loc</th>\n",
       "      <th>busiest day</th>\n",
       "      <th>busiest_day</th>\n",
       "    </tr>\n",
       "  </thead>\n",
       "  <tbody>\n",
       "    <tr>\n",
       "      <th>0</th>\n",
       "      <td>2539329</td>\n",
       "      <td>1</td>\n",
       "      <td>1</td>\n",
       "      <td>2</td>\n",
       "      <td>8</td>\n",
       "      <td>11.1</td>\n",
       "      <td>196</td>\n",
       "      <td>1</td>\n",
       "      <td>0</td>\n",
       "      <td>both</td>\n",
       "      <td>195.0</td>\n",
       "      <td>Soda</td>\n",
       "      <td>77.0</td>\n",
       "      <td>7.0</td>\n",
       "      <td>9.0</td>\n",
       "      <td>Mid-range product</td>\n",
       "      <td>Regularly busy</td>\n",
       "      <td>Regularly busy</td>\n",
       "    </tr>\n",
       "    <tr>\n",
       "      <th>1</th>\n",
       "      <td>2539329</td>\n",
       "      <td>1</td>\n",
       "      <td>1</td>\n",
       "      <td>2</td>\n",
       "      <td>8</td>\n",
       "      <td>11.1</td>\n",
       "      <td>14084</td>\n",
       "      <td>2</td>\n",
       "      <td>0</td>\n",
       "      <td>both</td>\n",
       "      <td>14084.0</td>\n",
       "      <td>Organic Unsweetened Vanilla Almond Milk</td>\n",
       "      <td>91.0</td>\n",
       "      <td>16.0</td>\n",
       "      <td>12.5</td>\n",
       "      <td>Mid-range product</td>\n",
       "      <td>Regularly busy</td>\n",
       "      <td>Regularly busy</td>\n",
       "    </tr>\n",
       "    <tr>\n",
       "      <th>2</th>\n",
       "      <td>2539329</td>\n",
       "      <td>1</td>\n",
       "      <td>1</td>\n",
       "      <td>2</td>\n",
       "      <td>8</td>\n",
       "      <td>11.1</td>\n",
       "      <td>12427</td>\n",
       "      <td>3</td>\n",
       "      <td>0</td>\n",
       "      <td>both</td>\n",
       "      <td>12427.0</td>\n",
       "      <td>Original Beef Jerky</td>\n",
       "      <td>23.0</td>\n",
       "      <td>19.0</td>\n",
       "      <td>4.4</td>\n",
       "      <td>Low-range product</td>\n",
       "      <td>Regularly busy</td>\n",
       "      <td>Regularly busy</td>\n",
       "    </tr>\n",
       "    <tr>\n",
       "      <th>3</th>\n",
       "      <td>2539329</td>\n",
       "      <td>1</td>\n",
       "      <td>1</td>\n",
       "      <td>2</td>\n",
       "      <td>8</td>\n",
       "      <td>11.1</td>\n",
       "      <td>26088</td>\n",
       "      <td>4</td>\n",
       "      <td>0</td>\n",
       "      <td>both</td>\n",
       "      <td>26089.0</td>\n",
       "      <td>Aged White Cheddar Popcorn</td>\n",
       "      <td>23.0</td>\n",
       "      <td>19.0</td>\n",
       "      <td>4.7</td>\n",
       "      <td>Low-range product</td>\n",
       "      <td>Regularly busy</td>\n",
       "      <td>Regularly busy</td>\n",
       "    </tr>\n",
       "    <tr>\n",
       "      <th>4</th>\n",
       "      <td>2539329</td>\n",
       "      <td>1</td>\n",
       "      <td>1</td>\n",
       "      <td>2</td>\n",
       "      <td>8</td>\n",
       "      <td>11.1</td>\n",
       "      <td>26405</td>\n",
       "      <td>5</td>\n",
       "      <td>0</td>\n",
       "      <td>both</td>\n",
       "      <td>26406.0</td>\n",
       "      <td>XL Pick-A-Size Paper Towel Rolls</td>\n",
       "      <td>54.0</td>\n",
       "      <td>17.0</td>\n",
       "      <td>1.0</td>\n",
       "      <td>Low-range product</td>\n",
       "      <td>Regularly busy</td>\n",
       "      <td>Regularly busy</td>\n",
       "    </tr>\n",
       "  </tbody>\n",
       "</table>\n",
       "</div>"
      ],
      "text/plain": [
       "   order_id  user_id  order_number  orders_day_of_week  order_hour  \\\n",
       "0   2539329        1             1                   2           8   \n",
       "1   2539329        1             1                   2           8   \n",
       "2   2539329        1             1                   2           8   \n",
       "3   2539329        1             1                   2           8   \n",
       "4   2539329        1             1                   2           8   \n",
       "\n",
       "   days_since_prior_order  product_id  add_to_cart_order  reordered _merge  \\\n",
       "0                    11.1         196                  1          0   both   \n",
       "1                    11.1       14084                  2          0   both   \n",
       "2                    11.1       12427                  3          0   both   \n",
       "3                    11.1       26088                  4          0   both   \n",
       "4                    11.1       26405                  5          0   both   \n",
       "\n",
       "   Unnamed: 0                             product_name  aisle_id  \\\n",
       "0       195.0                                     Soda      77.0   \n",
       "1     14084.0  Organic Unsweetened Vanilla Almond Milk      91.0   \n",
       "2     12427.0                      Original Beef Jerky      23.0   \n",
       "3     26089.0               Aged White Cheddar Popcorn      23.0   \n",
       "4     26406.0         XL Pick-A-Size Paper Towel Rolls      54.0   \n",
       "\n",
       "   department_id  prices    price_range_loc     busiest day     busiest_day  \n",
       "0            7.0     9.0  Mid-range product  Regularly busy  Regularly busy  \n",
       "1           16.0    12.5  Mid-range product  Regularly busy  Regularly busy  \n",
       "2           19.0     4.4  Low-range product  Regularly busy  Regularly busy  \n",
       "3           19.0     4.7  Low-range product  Regularly busy  Regularly busy  \n",
       "4           17.0     1.0  Low-range product  Regularly busy  Regularly busy  "
      ]
     },
     "execution_count": 41,
     "metadata": {},
     "output_type": "execute_result"
    }
   ],
   "source": [
    "df_merged.head()"
   ]
  },
  {
   "cell_type": "code",
   "execution_count": 31,
   "id": "b3ba15b6",
   "metadata": {},
   "outputs": [],
   "source": [
    "#using a for-loop to make a busiest days column\n",
    "results = []\n",
    "\n",
    "for value in df_merged[\"orders_day_of_week\"]:\n",
    "  if value == 0 or value == 1:\n",
    "    results.append(\"Busiest days\")\n",
    "  elif value == 3 or value == 4:\n",
    "    results.append(\"Slowest days\")\n",
    "  else:\n",
    "    results.append(\"Regularly busy\")"
   ]
  },
  {
   "cell_type": "code",
   "execution_count": 32,
   "id": "c503d305",
   "metadata": {},
   "outputs": [],
   "source": [
    "df_merged['busiest_days']= results"
   ]
  },
  {
   "cell_type": "code",
   "execution_count": 33,
   "id": "9d756364",
   "metadata": {},
   "outputs": [
    {
     "data": {
      "text/plain": [
       "busiest_days\n",
       "Regularly busy    12927862\n",
       "Busiest days      11875759\n",
       "Slowest days       7631438\n",
       "Name: count, dtype: int64"
      ]
     },
     "execution_count": 33,
     "metadata": {},
     "output_type": "execute_result"
    }
   ],
   "source": [
    "#checking for frequency of busy days\n",
    "busiest_days=df_merged['busiest_days'].value_counts(dropna=False)\n",
    "busiest_days"
   ]
  },
  {
   "cell_type": "code",
   "execution_count": 34,
   "id": "c80d911b",
   "metadata": {},
   "outputs": [],
   "source": [
    "busiest_days.to_clipboard()"
   ]
  },
  {
   "cell_type": "code",
   "execution_count": 35,
   "id": "84557d61",
   "metadata": {},
   "outputs": [
    {
     "data": {
      "text/plain": [
       "order_hour\n",
       "10    2764476\n",
       "11    2738647\n",
       "14    2691598\n",
       "15    2664583\n",
       "13    2663346\n",
       "12    2620898\n",
       "16    2537506\n",
       "9     2456751\n",
       "17    2089510\n",
       "8     1719991\n",
       "18    1637956\n",
       "19    1259416\n",
       "20     977049\n",
       "7      891951\n",
       "21     796379\n",
       "22     634743\n",
       "23     402621\n",
       "6      290796\n",
       "0      218951\n",
       "1      115787\n",
       "5       88064\n",
       "2       69435\n",
       "4       53284\n",
       "3       51321\n",
       "Name: count, dtype: int64"
      ]
     },
     "execution_count": 35,
     "metadata": {},
     "output_type": "execute_result"
    }
   ],
   "source": [
    "#checking which hours are busiest\n",
    "df_merged['order_hour'].value_counts(dropna=False)"
   ]
  },
  {
   "cell_type": "code",
   "execution_count": 36,
   "id": "28bb35e5",
   "metadata": {},
   "outputs": [],
   "source": [
    "#in order to make three groups in terms of busiest hour, I will break up the 24 hours into 3 groups of 8.\n",
    "results_1 = []\n",
    "\n",
    "for value in df_merged[\"order_hour\"]:\n",
    "  if value == 9 or value == 10 or value==11 or value ==12 or value==13 or value==14 or value==15 or value==16:\n",
    "    results_1.append(\"Most orders\")\n",
    "  elif value == 7 or value == 8 or value ==17 or value==18 or value==19 or value==20 or value==21 or value==22:\n",
    "    results_1.append(\"Average orders\")\n",
    "  else:\n",
    "    results_1.append(\"Fewest orders\")"
   ]
  },
  {
   "cell_type": "code",
   "execution_count": 37,
   "id": "e7ac4973",
   "metadata": {},
   "outputs": [],
   "source": [
    "df_merged['busiest_period_of_day']= results_1"
   ]
  },
  {
   "cell_type": "code",
   "execution_count": 38,
   "id": "2939e611",
   "metadata": {},
   "outputs": [
    {
     "data": {
      "text/plain": [
       "busiest_period_of_day\n",
       "Most orders       21137805\n",
       "Average orders    10006995\n",
       "Fewest orders      1290259\n",
       "Name: count, dtype: int64"
      ]
     },
     "execution_count": 38,
     "metadata": {},
     "output_type": "execute_result"
    }
   ],
   "source": [
    "#checking for frequency of busy hours\n",
    "bpod=df_merged['busiest_period_of_day'].value_counts(dropna=False)\n",
    "bpod"
   ]
  },
  {
   "cell_type": "code",
   "execution_count": 39,
   "id": "facd8405",
   "metadata": {},
   "outputs": [],
   "source": [
    "bpod.to_clipboard()"
   ]
  },
  {
   "cell_type": "code",
   "execution_count": null,
   "id": "4e45680e",
   "metadata": {},
   "outputs": [],
   "source": [
    "#These results show us the busiest 8 hours, or 1/3 day, contain about 2/3 of all orders"
   ]
  },
  {
   "cell_type": "code",
   "execution_count": 60,
   "id": "85406953",
   "metadata": {},
   "outputs": [],
   "source": [
    "#Exporting dataframe\n",
    "df_merged.to_pickle(os.path.join(path, 'Prepared Data', 'ords_prods_derived.pkl'))"
   ]
  },
  {
   "cell_type": "code",
   "execution_count": null,
   "id": "5cfd13a2",
   "metadata": {},
   "outputs": [],
   "source": []
  }
 ],
 "metadata": {
  "kernelspec": {
   "display_name": "Python 3 (ipykernel)",
   "language": "python",
   "name": "python3"
  },
  "language_info": {
   "codemirror_mode": {
    "name": "ipython",
    "version": 3
   },
   "file_extension": ".py",
   "mimetype": "text/x-python",
   "name": "python",
   "nbconvert_exporter": "python",
   "pygments_lexer": "ipython3",
   "version": "3.11.7"
  }
 },
 "nbformat": 4,
 "nbformat_minor": 5
}
